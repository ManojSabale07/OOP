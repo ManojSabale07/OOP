{
 "cells": [
  {
   "attachments": {},
   "cell_type": "raw",
   "id": "08c13385-6e02-40e3-886f-d2f92b9bf158",
   "metadata": {},
   "source": [
    "Q1] What is Object-Oriented Programming (OOP)?\n",
    "Ans :Object-Oriented Programming (OOP) -:\n",
    "        Object-Oriented Programming (OOP) is a programming paradigm based on the concept of objects, which are instances of classes.\n",
    "        OOP enables the modeling of real-world entities by combining data (attributes) and behavior (methods) into objects. \n",
    "        Key features of OOP include encapsulation, inheritance, polymorphism, and abstraction.\n",
    "\n",
    "Q2] What is a class in OOP?\n",
    "Ans :Class -:\n",
    "        A class in OOP is a blueprint or template for creating objects. \n",
    "        It defines the attributes (data) and methods (functions) that the objects of the class will have. \n",
    "        Classes encapsulate data and behavior in a single unit.\n",
    "\n",
    "Q3] What is an object in OOP?\n",
    "Ans Object -:\n",
    "        An object in OOP is an instance of a class. \n",
    "        It is a concrete entity that encapsulates data (attributes) and behavior (methods) as defined by its class. \n",
    "        Objects represent real-world entities and interact with each other.\n",
    "\n",
    "Q4] What is the difference between abstraction and encapsulation?\n",
    "Ans :Abstraction and Encapsulation are key concepts in OOP but differ in focus\n",
    "     1. Abstraction -:\n",
    "        Focuses on hiding complexity by exposing only essential features.\n",
    "        Achieved using abstract classes and interfaces.\n",
    "     2. Encapsulation:\n",
    "        Focuses on restricting access to internal data by bundling it with methods.\n",
    "        Achieved using access modifiers (e.g., `private`, `protected`, `public`).\n",
    "\n",
    "Q5] What are dunder methods in Python?\n",
    "Ans :Dunder -:\n",
    "        Dunder methods (short for Double UNDERscore methods) are special methods in Python surrounded by double underscores, like __init__ or __str__.          They enable custom behavior for built-in operations such as:\n",
    "            Initialization: __init__ (object constructor)\n",
    "            String representation: __str__ (human-readable object description)\n",
    "            Operator overloading: __add__, __sub__\n",
    "            Length and iteration: __len__, __iter__\n",
    "\n",
    "Q6] Explain the concept of inheritance in OOP?\n",
    "Ans :Inheritance -:\n",
    "        Inheritance in OOP allows a class (child class) to derive properties and behaviors from another class (parent class). \n",
    "        It promotes code reuse and establishes a hierarchical relationship between classes.\n",
    "        Parent Class (Superclass): The base class that provides attributes and methods.\n",
    "        Child Class (Subclass): The derived class that inherits or overrides features of the parent class.\n",
    "        Types:\n",
    "            Single Inheritance: One child inherits from one parent.\n",
    "            Multiple Inheritance: A child inherits from multiple parents.\n",
    "            Multilevel Inheritance: A child inherits from another child class.\n",
    "\n",
    "Q7] What is polymorphism in OOP?\n",
    "Ans :Polymorphism -:\n",
    "        Polymorphism in OOP allows objects of different classes to be treated as objects of a common parent class. \n",
    "        It enables a single interface to represent different underlying forms (data types or methods).\n",
    "        Key Types -:\n",
    "            Method Overriding: Subclass provides a specific implementation of a method defined in its superclass.\n",
    "            Method Overloading: Same method name with different parameter lists (not directly supported in Python but can be mimicked).\n",
    "            Operator Overloading: Using operators like +, -, etc., with custom behavior for user-defined classes.\n",
    "\n",
    "Q8] How is encapsulation achieved in Python?\n",
    "Ans :Encapsulation -:\n",
    "        Encapsulation in Python is achieved by restricting access to an object's internal data and methods. \n",
    "        It allows controlled access using public, protected, and private attributes.\n",
    "        Key Concepts:\n",
    "            Public Attributes:\n",
    "                1] Accessible from anywhere.\n",
    "                2] Example: self.attribute\n",
    "            Protected Attributes:\n",
    "                1] Indicated by a single underscore (_attribute).\n",
    "                2] Accessible within the class and its subclasses (not strictly enforced).\n",
    "            Private Attributes:\n",
    "                1] Indicated by double underscores (__attribute).\n",
    "                2] Not directly accessible outside the class (name mangling used).\n",
    "\n",
    "Q9] What is a constructor in Python?\n",
    "Ans :Constructor -:\n",
    "        A constructor in Python is a special method named __init__ that is automatically called when an object of a class is created. \n",
    "        It is used to initialize the attributes of the object.\n",
    "        Key Features:\n",
    "            1] Automatic Invocation: Called automatically during object creation.\n",
    "            2] Initialization: Used to set up initial values for attributes.\n",
    "\n",
    "Q10] What are class and static methods in Python?\n",
    "Ans :Class Methods:\n",
    "        Class methods operate on the class rather than the instance. \n",
    "        They are defined using the @classmethod decorator and take cls as their first parameter, which refers to the class itself.\n",
    "        Key Points:\n",
    "            1] Can modify class-level attributes.\n",
    "            2] Do not depend on any instance of the class.\n",
    "     Static Methods:\n",
    "        Static methods do not depend on the instance or the class. \n",
    "        They are defined using the @staticmethod decorator and do not take self or cls as the first parameter.\n",
    "        Key Points:\n",
    "            1] Behave like regular functions but are defined within the class.\n",
    "            2] Cannot modify class or instance state."
   ]
  },
  {
   "cell_type": "raw",
   "id": "23c703f9-ec04-4e11-9a8a-f834dd621928",
   "metadata": {},
   "source": [
    "Q11] What is method overloading in Python?\n",
    "Ans :Overloading -:\n",
    "        Method overloading in Python refers to defining a method that can perform different tasks based on the number or type of arguments passed.              While Python does not support method overloading natively, it can be implemented by using default arguments or by handling arguments                    dynamically.\n",
    "        Key Points:\n",
    "            1] Python allows a single method to handle multiple use cases using dynamic arguments.\n",
    "            2] The last defined method with the same name overwrites previous ones in a class.\n"
   ]
  },
  {
   "cell_type": "code",
   "execution_count": 15,
   "id": "77575a0b-4a89-4cb0-9147-a160817d23d7",
   "metadata": {},
   "outputs": [
    {
     "name": "stdout",
     "output_type": "stream",
     "text": [
      "5\n",
      "15\n",
      "30\n"
     ]
    }
   ],
   "source": [
    "class Math:\n",
    "    def add(self, *args):\n",
    "        return sum(args)\n",
    "\n",
    "math = Math()\n",
    "print(math.add(5))        \n",
    "print(math.add(5, 10))     \n",
    "print(math.add(5, 10, 15)) \n"
   ]
  },
  {
   "attachments": {},
   "cell_type": "raw",
   "id": "6555033b-7e90-4261-adc6-995ad3057de1",
   "metadata": {},
   "source": [
    "Q12] What is method overriding in OOP?\n",
    "Ans :Overriding -:\n",
    "        Method overriding in OOP occurs when a subclass provides a specific implementation of a method that is already defined in its parent class. \n",
    "        The subclass's method overrides the parent's method, enabling polymorphism.\n",
    "     Key Features:\n",
    "        The method in the subclass must have the same name, parameters, and signature as in the parent class.\n",
    "        Allows the subclass to customize or extend the behavior of the parent class's method.\n",
    "        Achieves runtime polymorphism.\n",
    "\n",
    "Q13] What is a property decorator in Python?\n",
    "Ans :Property decorator -:\n",
    "        The @property decorator in Python is used to define a method as a property, allowing it to be accessed like an attribute while still providing          method-like functionality. \n",
    "        It helps implement getter, setter, and deleter methods in a clean, Pythonic way.\n",
    "        Key Features:\n",
    "            Simplifies access to class attributes.\n",
    "            Encapsulates attribute logic while keeping syntax clean.\n",
    "            Ensures control over attribute access and modification.\n",
    "\n",
    "Q14] Why is polymorphism important in OOP?\n",
    "Ans :Polymorphism -:\n",
    "        It is important in OOP because it allows for flexibility, scalability, and code reusability by enabling the same interface or method to behave          differently across various classes.\n",
    "        Key Reasons:\n",
    "            Code Reusability:\n",
    "                Enables writing generic code that works with multiple types or classes, reducing duplication.\n",
    "            Extensibility:\n",
    "                Makes it easy to add new behaviors or classes without altering existing code.\n",
    "            Dynamic Behavior:\n",
    "                Enables runtime decision-making, where the correct method is called based on the object's type.\n",
    "            Supports Abstraction:\n",
    "                Hides implementation details while allowing consistent behavior across derived classes.\n",
    "\n",
    "Q15] What is an abstract class in Python?\n",
    "Ans :Abstract class -:\n",
    "        An abstract class in Python is a class that cannot be instantiated directly and is used as a blueprint for other classes. \n",
    "        It contains one or more abstract methods, which must be implemented by its subclasses. Abstract classes are defined using the ABC \n",
    "        (Abstract Base Class) module.\n",
    "        Key Features:\n",
    "            Abstract Methods: Defined with the @abstractmethod decorator; these methods have no implementation in the abstract class.\n",
    "            Concrete Methods: Abstract classes can also include fully implemented methods.\n",
    "            Inheritance: Subclasses must implement all abstract methods to be instantiable.\n",
    "        Purpose:\n",
    "            To enforce a common interface for all subclasses.\n",
    "            To ensure consistent implementation across related classes.\n",
    "\n",
    "Q16] What are the advantages of OOP?\n",
    "Ans :Advantages of OOP:\n",
    "        Modularity:\n",
    "            Code is organized into classes and objects, making it easier to manage and understand.\n",
    "        Reusability:\n",
    "            Classes and methods can be reused across programs using inheritance, reducing code duplication.\n",
    "        Scalability:\n",
    "            OOP allows adding new features or extending functionality without affecting existing code.\n",
    "        Abstraction:\n",
    "            Hides implementation details and exposes only essential features, simplifying code usage.\n",
    "        Encapsulation:\n",
    "            Protects data by bundling it with methods, allowing controlled access through getters/setters.\n",
    "        Polymorphism:\n",
    "            Enables flexibility by allowing the same method or interface to behave differently in different contexts.\n",
    "        Improved Maintainability:\n",
    "            Clear separation of concerns and modularity make debugging, updating, and testing easier.\n",
    "        Real-World Modeling:\n",
    "            Objects mimic real-world entities, making it intuitive to design and implement systems.\n",
    "\n",
    "Q17] What is the difference between a class variable and an instance variable?\n",
    "Ans :Class variable -: \n",
    "        Shared across all instances of the class.\n",
    "        Defined directly in the class body.\n",
    "        Accessed and modified by all instances.\n",
    "        Used for data common to all instances.\n",
    "     Instance variable -: \n",
    "        Unique to each object (instance) of the class.\n",
    "        Defined inside methods, typically in __init__.\n",
    "        Each instance has its own separate copy.\n",
    "        Used for data specific to an individual instance."
   ]
  },
  {
   "cell_type": "raw",
   "id": "00557583-ee3b-4043-8c73-370c5ad6048f",
   "metadata": {},
   "source": [
    "Q18] What is multiple inheritance in Python?\n",
    "ANs :Multiple inheritance -:\n",
    "        Multiple inheritance in Python is a feature where a class can inherit attributes and methods from more than one parent class. \n",
    "        This allows the derived class to combine functionalities from multiple base classes.\n"
   ]
  },
  {
   "cell_type": "code",
   "execution_count": 17,
   "id": "551b6779-747d-4118-acb0-8e054cd56c65",
   "metadata": {},
   "outputs": [
    {
     "name": "stdout",
     "output_type": "stream",
     "text": [
      "Method from Parent1\n",
      "Method from Parent2\n",
      "Method from Child\n"
     ]
    }
   ],
   "source": [
    "class Parent1:\n",
    "    def method1(self):\n",
    "        print(\"Method from Parent1\")\n",
    "\n",
    "class Parent2:\n",
    "    def method2(self):\n",
    "        print(\"Method from Parent2\")\n",
    "\n",
    "class Child(Parent1, Parent2):\n",
    "    def method3(self):\n",
    "        print(\"Method from Child\")\n",
    "\n",
    "child = Child()\n",
    "child.method1()  \n",
    "child.method2()  \n",
    "child.method3()  \n"
   ]
  },
  {
   "cell_type": "raw",
   "id": "7d07e542-0490-408c-8914-87cd1ded0f92",
   "metadata": {},
   "source": [
    "Q19] Explain the purpose of ‘’__str__’ and ‘__repr__’ ‘ methods in Python?\n",
    "Ans : __str__ -:\n",
    "        Provides a readable and user-friendly string representation of the object.\n",
    "        Used when print() or str() is called on the object.\n",
    "      __repr__ -: \n",
    "        Provides an unambiguous string representation of the object.\n",
    "        Primarily used for debugging and development.\n",
    "        Should ideally return a string that can recreate the object using eval()."
   ]
  },
  {
   "cell_type": "code",
   "execution_count": 23,
   "id": "d5e08b5c-ca54-4f18-9254-1288fa71ecc9",
   "metadata": {},
   "outputs": [
    {
     "name": "stdout",
     "output_type": "stream",
     "text": [
      "Manoj, 19 years old\n"
     ]
    }
   ],
   "source": [
    "class Person:\n",
    "    def __init__(self, name, age):\n",
    "        self.name = name\n",
    "        self.age = age\n",
    "\n",
    "    def __str__(self):\n",
    "        return f\"{self.name}, {self.age} years old\"\n",
    "\n",
    "# Usage\n",
    "p = Person(\"Manoj\", 19)\n",
    "print(str(p))  # Output: Alice, 30 years old\n"
   ]
  },
  {
   "cell_type": "code",
   "execution_count": 21,
   "id": "cd3e03fa-7ba1-45af-b39a-8f6b9a41516b",
   "metadata": {},
   "outputs": [
    {
     "name": "stdout",
     "output_type": "stream",
     "text": [
      "Person(name='Manoj', age=19)\n"
     ]
    }
   ],
   "source": [
    "class Person:\n",
    "    def __init__(self, name, age):\n",
    "        self.name = name\n",
    "        self.age = age\n",
    "\n",
    "    def __repr__(self):\n",
    "        return f\"Person(name='{self.name}', age={self.age})\"\n",
    "\n",
    "p = Person(\"Manoj\", 19)\n",
    "print(repr(p)) "
   ]
  },
  {
   "cell_type": "raw",
   "id": "aa153af8-5043-4557-a8b4-54a30b0bd0eb",
   "metadata": {},
   "source": [
    "Q20]What is the significance of the ‘super()’ function in Python\n",
    "Ans :super() -:\n",
    "        The super() function in Python is used to call a method from the parent class (or superclass) in a subclass. \n",
    "        It is significant for code reuse and ensuring the proper initialization of inherited attributes or methods.\n",
    "        Key Features:\n",
    "            Access Parent Class Methods:\n",
    "                Calls methods from the parent class without explicitly naming it.\n",
    "            Avoid Redundancy:\n",
    "                Simplifies method calls in multi-level inheritance by ensuring the parent class is initialized correctly.\n",
    "            Dynamic Resolution:\n",
    "                Automatically handles method resolution order (MRO) in cases of multiple inheritance.\n",
    "        Syntax -  super().method_name()\n"
   ]
  },
  {
   "cell_type": "code",
   "execution_count": 7,
   "id": "ac4d27ab-c03d-409f-8053-74dac6509385",
   "metadata": {},
   "outputs": [
    {
     "name": "stdout",
     "output_type": "stream",
     "text": [
      "Hello from Parent\n",
      "Hello from Child\n"
     ]
    }
   ],
   "source": [
    "class Parent:\n",
    "    def greet(self):\n",
    "        print(\"Hello from Parent\")\n",
    "\n",
    "class Child(Parent):\n",
    "    def greet(self):\n",
    "        super().greet()  # Call parent method\n",
    "        print(\"Hello from Child\")\n",
    "\n",
    "\n",
    "child = Child()\n",
    "child.greet()"
   ]
  },
  {
   "cell_type": "raw",
   "id": "9ff73506-79b6-4c23-b838-59902a14683a",
   "metadata": {},
   "source": [
    "Q21] What is the significance of the __del__ method in Python?\n",
    "Ans :del() -:\n",
    "        The __del__ method in Python is a special method, also known as a destructor, that is called when an object is about to be destroyed. \n",
    "        It allows you to perform cleanup tasks, such as releasing resources or closing connections, before the object is removed from memory.\n",
    "        Key Features:\n",
    "            Automatic Cleanup:\n",
    "                Triggered when an object’s reference count drops to zero, signaling it is no longer in use.\n",
    "            Resource Management:\n",
    "                Used to release external resources like file handles, network connections, or database sessions.\n",
    "            Not Guaranteed:\n",
    "                The exact time when __del__ is called depends on Python's garbage collection, so it may not execute immediately after the object is no                  longer in use."
   ]
  },
  {
   "cell_type": "raw",
   "id": "7a2d763b-e46a-48cc-8884-43ec4178b644",
   "metadata": {},
   "source": [
    "Q22] What is the difference between @staticmethod and @classmethod in Python?\n",
    "Ans :@staticmethod:\n",
    "        A static method does not take a reference to the instance (self) or the class (cls) as its first argument.\n",
    "        It behaves like a regular function that belongs to the class, but it does not access or modify the class or instance attributes.\n",
    "        Static methods are used when you need functionality that logically belongs to the class but does not require access to any instance or class-           specific data.\n",
    "     @classmethod:\n",
    "        A class method takes a reference to the class (cls) as its first argument, not the instance.\n",
    "        It can modify the class state or call other class methods, but it cannot directly access or modify instance attributes.\n",
    "        Class methods are typically used for factory methods, or when the method needs to modify the class itself rather than an individual instance.\n"
   ]
  },
  {
   "cell_type": "code",
   "execution_count": 13,
   "id": "c409cc11-d69c-46df-bc02-d2e842992709",
   "metadata": {},
   "outputs": [
    {
     "name": "stdout",
     "output_type": "stream",
     "text": [
      "Hello, Manoj\n"
     ]
    }
   ],
   "source": [
    "class MyClass:\n",
    "    @staticmethod\n",
    "    def greet(name):\n",
    "        return f\"Hello, {name}\"\n",
    "\n",
    "print(MyClass.greet(\"Manoj\")) "
   ]
  },
  {
   "cell_type": "code",
   "execution_count": 25,
   "id": "27756338-b08b-46a5-8580-333a9b150e4a",
   "metadata": {},
   "outputs": [
    {
     "name": "stdout",
     "output_type": "stream",
     "text": [
      "Hello from MyClass, Manoj\n"
     ]
    }
   ],
   "source": [
    "class MyClass:\n",
    "    @classmethod\n",
    "    def greet(cls, name):\n",
    "        return f\"Hello from {cls.__name__}, {name}\"\n",
    "\n",
    "print(MyClass.greet(\"Manoj\")) \n"
   ]
  },
  {
   "cell_type": "raw",
   "id": "42f5af59-e86f-47cb-8d50-74baa912e460",
   "metadata": {},
   "source": [
    "Q23] How does polymorphism work in Python with inheritance?\n",
    "Ans :Polymorphism in Python allows you to use a single interface or method to operate on objects of different types. With inheritance, polymorphism          enables you to define methods in a base class and override them in derived classes to achieve different behaviors while maintaining the same            method signature.\n",
    "     Here’s how polymorphism works in Python with inheritance:\n",
    "        Method Overriding:\n",
    "            In Python, polymorphism is often achieved through method overriding, where a subclass provides a specific implementation of a method that               is already defined in its parent class.\n",
    "            Even though the method name remains the same, the behavior can vary across different subclasses.\n",
    "        Dynamic Dispatch:\n",
    "        Python uses dynamic dispatch (also known as late binding) to decide which method to call based on the object’s type at runtime.\n",
    "        When you call a method on an object, Python will look for the method in the object's class and move up the inheritance chain if the method is           not found in the current class."
   ]
  },
  {
   "cell_type": "raw",
   "id": "470b4b24-5d3d-4aed-b2ce-d7d18620bb90",
   "metadata": {},
   "source": [
    "Q24] What is method chaining in Python OOP?\n",
    "Ans :Method chaining -: \n",
    "        Method chaining in Python OOP refers to the technique of calling multiple methods on the same object in a single statement.\n",
    "        This is possible because each method in the chain returns the object itself (usually using self), which allows the next method in the chain to          be called on the same object.\n",
    "      How it works:\n",
    "        For method chaining to work, each method must return self (the instance of the object) after performing its task. \n",
    "        This way, the object is returned, and you can immediately call another method on it."
   ]
  },
  {
   "cell_type": "code",
   "execution_count": 29,
   "id": "a9fdb470-c9cd-4207-b86a-c7d3ab37cd3d",
   "metadata": {},
   "outputs": [
    {
     "name": "stdout",
     "output_type": "stream",
     "text": [
      "10\n"
     ]
    }
   ],
   "source": [
    "\n",
    "class Calculator:\n",
    "    def __init__(self, value=0):\n",
    "        self.value = value\n",
    "    \n",
    "    def add(self, x):\n",
    "        self.value += x\n",
    "        return self  \n",
    "    \n",
    "    def subtract(self, x):\n",
    "        self.value -= x\n",
    "        return self  \n",
    "    \n",
    "    def multiply(self, x):\n",
    "        self.value *= x\n",
    "        return self \n",
    "    \n",
    "    def get_result(self):\n",
    "        return self.value\n",
    "\n",
    "calc = Calculator()\n",
    "result = calc.add(10).subtract(5).multiply(2).get_result()\n",
    "print(result)  \n"
   ]
  },
  {
   "cell_type": "raw",
   "id": "6c7469df-b6e3-4179-966e-8054f68b0cd6",
   "metadata": {},
   "source": [
    "Q25] What is the purpose of the __call__ method in Python?\n",
    "Ans :__call__ -: \n",
    "        The __call__ method in Python is a special or \"dunder\" method (short for \"double underscore\") that allows an instance of a class to be called           like a function. When an object is invoked (called) directly as if it were a function, Python will internally call the __call__ method.\n",
    "        Purpose of __call__:\n",
    "            Making an Object Callable: The main purpose of the __call__ method is to enable instances of a class to behave like functions.\n",
    "            This can be useful in scenarios where you want to encapsulate callable behavior in an object, allowing you to combine object-oriented                   features with function-like behavior.\n",
    "        Flexibility: It allows instances to have flexible behavior, where different calls to the object can trigger different logic or processes.\n",
    "     How It Works:\n",
    "        When you create an instance of a class and then \"call\" the instance (i.e., obj()), Python will invoke the __call__ method of the instance.\n",
    "        The __call__ method can accept parameters, allowing you to pass arguments when calling the object."
   ]
  },
  {
   "cell_type": "code",
   "execution_count": 109,
   "id": "35625b98-dc89-4d7f-8d4c-9e46a0c9b694",
   "metadata": {},
   "outputs": [
    {
     "name": "stdout",
     "output_type": "stream",
     "text": [
      "50\n"
     ]
    }
   ],
   "source": [
    "class Multiplier:\n",
    "    def __init__(self, factor):\n",
    "        self.factor = factor\n",
    "\n",
    "    def __call__(self, value):\n",
    "        return self.factor * value\n",
    "\n",
    "multiplier = Multiplier(5)\n",
    "\n",
    "result = multiplier(10)  \n",
    "\n",
    "print(result)  \n"
   ]
  },
  {
   "cell_type": "raw",
   "id": "18b70790-d9b0-4a5b-b379-06c6d0d2a5ab",
   "metadata": {},
   "source": [
    "PRACTIC"
   ]
  },
  {
   "cell_type": "code",
   "execution_count": 107,
   "id": "0bbdb628-decc-4ce6-bba9-359950320bae",
   "metadata": {},
   "outputs": [
    {
     "name": "stdout",
     "output_type": "stream",
     "text": [
      "Some generic sound\n",
      "Bark!\n"
     ]
    }
   ],
   "source": [
    "#Q1.  Create a parent class Animal with a method speak() that prints a generic message. \n",
    "#     Create a child class Dog that overrides the speak() method to print \"Bark!\"\n",
    "class Animal:\n",
    "    def speak(self):\n",
    "        print(\"Some generic sound\")\n",
    "class Dog(Animal):\n",
    "    def speak(self):\n",
    "        print(\"Bark!\")\n",
    "\n",
    "generic_animal = Animal()\n",
    "dog = Dog()\n",
    "\n",
    "generic_animal.speak()\n",
    "dog.speak()"
   ]
  },
  {
   "cell_type": "code",
   "execution_count": 105,
   "id": "1d3edec7-f6fb-4747-aba5-f05b842f177a",
   "metadata": {},
   "outputs": [
    {
     "name": "stdout",
     "output_type": "stream",
     "text": [
      "Circle area: 78.53981633974483\n",
      "Rectangle area: 24\n"
     ]
    }
   ],
   "source": [
    "# Q2] Write a program to create an abstract class Shape with a method area(). \n",
    "#     Derive classes Circle and Rectangle from it and implement the area() method in both.\n",
    "\n",
    "from abc import ABC, abstractmethod\n",
    "import math\n",
    "\n",
    "class Shape(ABC):\n",
    "    @abstractmethod\n",
    "    def area(self):\n",
    "        pass\n",
    "\n",
    "class Circle(Shape):\n",
    "    def __init__(self, radius):\n",
    "        self.radius = radius\n",
    "\n",
    "    def area(self):\n",
    "        return math.pi * self.radius**2\n",
    "\n",
    "class Rectangle(Shape):\n",
    "    def __init__(self, width, height):\n",
    "        self.width = width\n",
    "        self.height = height\n",
    "\n",
    "    def area(self):\n",
    "        return self.width * self.height\n",
    "\n",
    "circle = Circle(5)\n",
    "print(\"Circle area:\", circle.area())\n",
    "\n",
    "rectangle = Rectangle(4, 6)\n",
    "print(\"Rectangle area:\", rectangle.area())"
   ]
  },
  {
   "cell_type": "code",
   "execution_count": 115,
   "id": "b3fa620e-3265-492e-8dcd-09dfbf83674f",
   "metadata": {},
   "outputs": [
    {
     "name": "stdout",
     "output_type": "stream",
     "text": [
      "Type: Electric,\n",
      "Brand: BMW,\n",
      "Model: Model xi5, \n",
      "Battery Capacity: 320 kWh\n"
     ]
    }
   ],
   "source": [
    "# Q3] Implement a multi-level inheritance scenario where a class Vehicle has an attribute type. Derive a class Car \n",
    "#     and further derive a class ElectricCar that adds a battery attribute.\n",
    "\n",
    "class Vehicle:\n",
    "    def __init__(self, vehicle_type):\n",
    "        self.vehicle_type = vehicle_type\n",
    "\n",
    "class Car(Vehicle):\n",
    "    def __init__(self, vehicle_type, brand, model):\n",
    "        super().__init__(vehicle_type)\n",
    "        self.brand = brand\n",
    "        self.model = model\n",
    "\n",
    "class ElectricCar(Car):\n",
    "    def __init__(self, vehicle_type, brand, model, battery_capacity):\n",
    "        super().__init__(vehicle_type, brand, model)\n",
    "        self.battery_capacity = battery_capacity\n",
    "\n",
    "#i'm using `\\n` to print all the details in new line\n",
    "    def display_info(self):\n",
    "        return (f\"Type: {self.vehicle_type},\\nBrand: {self.brand},\\nModel: {self.model}, \"\n",
    "                f\"\\nBattery Capacity: {self.battery_capacity} kWh\")\n",
    "\n",
    "electric_car = ElectricCar(\"Electric\", \"BMW\", \"Model xi5\", 320)\n",
    "\n",
    "print(electric_car.display_info())"
   ]
  },
  {
   "cell_type": "code",
   "execution_count": 113,
   "id": "24feeb51-d04b-4c76-b2a1-0eb084053835",
   "metadata": {},
   "outputs": [
    {
     "name": "stdout",
     "output_type": "stream",
     "text": [
      "Type: Electric,\n",
      "Brand: BMW,\n",
      "Model: Model xi5, \n",
      "Battery Capacity: 320 kWh\n"
     ]
    }
   ],
   "source": [
    "#Q4] Implement a multi-level inheritance scenario where a class Vehicle has an attribute type. Derive a class Car\n",
    "#    and further derive a class ElectricCar that adds a battery attribute.\n",
    "\n",
    "    \n",
    "class Vehicle:\n",
    "    def __init__(self, vehicle_type):\n",
    "        self.vehicle_type = vehicle_type\n",
    "\n",
    "class Car(Vehicle):\n",
    "    def __init__(self, vehicle_type, brand, model):\n",
    "        super().__init__(vehicle_type)\n",
    "        self.brand = brand\n",
    "        self.model = model\n",
    "\n",
    "class ElectricCar(Car):\n",
    "    def __init__(self, vehicle_type, brand, model, battery_capacity):\n",
    "        super().__init__(vehicle_type, brand, model)\n",
    "        self.battery_capacity = battery_capacity\n",
    "\n",
    "#i'm using `\\n` to print all the details in new line\n",
    "    def display_info(self):\n",
    "        return (f\"Type: {self.vehicle_type},\\nBrand: {self.brand},\\nModel: {self.model}, \"\n",
    "                f\"\\nBattery Capacity: {self.battery_capacity} kWh\")\n",
    "\n",
    "electric_car = ElectricCar(\"Electric\", \"BMW\", \"Model xi5\", 320)\n",
    "\n",
    "print(electric_car.display_info())"
   ]
  },
  {
   "cell_type": "code",
   "execution_count": 117,
   "id": "3b4372fb-1d3f-4b6e-a67a-c106b0a1a558",
   "metadata": {},
   "outputs": [
    {
     "name": "stdout",
     "output_type": "stream",
     "text": [
      "Deposited ₹500 to your account no. xxxx69 successfully!!. \n",
      "->New balance: ₹1500\n",
      "Withdrew ₹200 from your account no. xxxx69 successfully!!. \n",
      "->New balance: ₹1300\n",
      "Oops!! Invalid withdrawal amount or insufficient funds. Your Current balance is ₹1300\n"
     ]
    }
   ],
   "source": [
    "\n",
    "#Q5] Write a program to demonstrate encapsulation by creating a class BankAccount with private attributes\n",
    "#    balance and methods to deposit, withdraw, and check balance.\n",
    "\n",
    "class BankAccount:\n",
    "    def __init__(self, initial_balance=0):\n",
    "        self.__balance = initial_balance\n",
    "\n",
    "    def deposit(self, amount):\n",
    "        if amount > 0:\n",
    "            self.__balance += amount\n",
    "            print(f\"Deposited ₹{amount} to your account no. xxxx69 successfully!!. \\n->New balance: ₹{self.__balance}\")\n",
    "        else:\n",
    "            print(\"Invalid deposit amount.\")\n",
    "\n",
    "    def withdraw(self, amount):\n",
    "        if 0 < amount <= self.__balance:\n",
    "            self.__balance -= amount\n",
    "            print(f\"Withdrew ₹{amount} from your account no. xxxx69 successfully!!. \\n->New balance: ₹{self.__balance}\")\n",
    "        else:\n",
    "            print(f\"Oops!! Invalid withdrawal amount or insufficient funds. Your Current balance is ₹{self.__balance}\")\n",
    "\n",
    "    def check_balance(self):\n",
    "        print(f\"-->Current balance: ₹{self.__balance}\")\n",
    "\n",
    "account = BankAccount(1000)\n",
    "account.deposit(500)\n",
    "account.withdraw(200)\n",
    "#i'm writing another withdraw in case of insufficient balance\n",
    "account.withdraw(1500)"
   ]
  },
  {
   "cell_type": "code",
   "execution_count": 93,
   "id": "f9ee931d-abf3-4a57-a04f-8b42ff006c29",
   "metadata": {},
   "outputs": [
    {
     "name": "stdout",
     "output_type": "stream",
     "text": [
      "Playing the guitar\n",
      "Playing the piano\n"
     ]
    }
   ],
   "source": [
    "#Q6] Demonstrate runtime polymorphism using a method play() in a base class Instrument. Derive classes Guitar\n",
    "#    and Piano that implement their own version of play().\n",
    "\n",
    "class Instrument:\n",
    "    def play(self):\n",
    "        raise NotImplementedError(\"Subclass must implement abstract method\")\n",
    "class Guitar(Instrument):\n",
    "    def play(self):\n",
    "        print(\"Playing the guitar\")\n",
    "\n",
    "class Piano(Instrument):\n",
    "    def play(self):\n",
    "        print(\"Playing the piano\")\n",
    "def play_instrument(instrument: Instrument):\n",
    "    instrument.play()\n",
    "\n",
    "guitar = Guitar()\n",
    "piano = Piano()\n",
    "\n",
    "play_instrument(guitar)\n",
    "play_instrument(piano)"
   ]
  },
  {
   "cell_type": "code",
   "execution_count": 91,
   "id": "d0b90d9a-3b63-4a45-99c3-4042dba6dfc9",
   "metadata": {},
   "outputs": [
    {
     "name": "stdout",
     "output_type": "stream",
     "text": [
      "Addition result: 30\n",
      "Subtraction result: 6\n"
     ]
    }
   ],
   "source": [
    "#Q7] Create a class MathOperations with a class method add_numbers() to add two numbers and a static\n",
    "#     method subtract_numbers() to subtract two numbers.\n",
    "\n",
    "class MathOperations:\n",
    "    @classmethod\n",
    "    def add_numbers(cls, a, b):\n",
    "        return a + b\n",
    "\n",
    "    @staticmethod\n",
    "    def subtract_numbers(a, b):\n",
    "        return a - b\n",
    "\n",
    "# Example usage\n",
    "result_add = MathOperations.add_numbers(25, 5)\n",
    "result_subtract = MathOperations.subtract_numbers(11, 5)\n",
    "\n",
    "print(f\"Addition result: {result_add}\")\n",
    "print(f\"Subtraction result: {result_subtract}\")"
   ]
  },
  {
   "cell_type": "code",
   "execution_count": 89,
   "id": "cd4de572-7a07-4204-81cb-0332a386ee98",
   "metadata": {},
   "outputs": [
    {
     "name": "stdout",
     "output_type": "stream",
     "text": [
      "Total number of persons: 3\n"
     ]
    }
   ],
   "source": [
    "\n",
    "#Q8] Implement a class Person with a class method to count the total number of persons created.\n",
    "\n",
    "class Person:\n",
    "    count = 0\n",
    "    def __init__(self, name):\n",
    "        self.name = name\n",
    "        Person.count += 1\n",
    "\n",
    "    @classmethod\n",
    "    def total_persons(cls):\n",
    "        return cls.count\n",
    "\n",
    "person1 = Person(\"MANOJ\")\n",
    "person2 = Person(\"SARTHAK\")\n",
    "person3 = Person(\"REHAN\")\n",
    "\n",
    "print(\"Total number of persons:\", Person.total_persons())"
   ]
  },
  {
   "cell_type": "code",
   "execution_count": 47,
   "id": "4f20b8a2-ee47-48f9-b664-3260ff47e98b",
   "metadata": {},
   "outputs": [
    {
     "name": "stdout",
     "output_type": "stream",
     "text": [
      "3/4\n"
     ]
    }
   ],
   "source": [
    "#Q9] Write a class Fraction with attributes numerator and denominator. Override the str method to display the fraction as \"numerator/denominator\".\n",
    "\n",
    "class Fraction:\n",
    "    def __init__(self, numerator, denominator):\n",
    "        self.numerator = numerator\n",
    "        self.denominator = denominator\n",
    "\n",
    "    def __str__(self):\n",
    "        return f\"{self.numerator}/{self.denominator}\"\n",
    "\n",
    "fraction = Fraction(3, 4)\n",
    "print(fraction)"
   ]
  },
  {
   "cell_type": "code",
   "execution_count": 51,
   "id": "952c381b-f1e4-424b-9316-82a370a2bc0f",
   "metadata": {},
   "outputs": [
    {
     "name": "stdout",
     "output_type": "stream",
     "text": [
      "(4, 6)\n"
     ]
    }
   ],
   "source": [
    "#Q10] Demonstrate operator overloading by creating a class Vector and overriding the add method to add two vectors.\n",
    "\n",
    "class Vector:\n",
    "    def __init__(self, x, y):\n",
    "        self.x = x\n",
    "        self.y = y\n",
    "\n",
    "    def __add__(self, other):\n",
    "        return Vector(self.x + other.x, self.y + other.y)\n",
    "\n",
    "    def __str__(self):\n",
    "        return f\"({self.x}, {self.y})\"\n",
    "\n",
    "v1 = Vector(1, 2)\n",
    "v2 = Vector(3, 4)\n",
    "v3 = v1 + v2\n",
    "print(v3)"
   ]
  },
  {
   "cell_type": "code",
   "execution_count": 53,
   "id": "127d6d62-1555-4018-9be2-cccd8c3fad5b",
   "metadata": {},
   "outputs": [
    {
     "name": "stdout",
     "output_type": "stream",
     "text": [
      "Hello, my name is AVINESH and I am 21 years old.\n"
     ]
    }
   ],
   "source": [
    "#Q11] Create a class Person with attributes name and age. Add a method greet() that prints \"Hello, my name is {name} and I am {age} years old.\"\n",
    "\n",
    "class Person:\n",
    "    def __init__(self, name, age):\n",
    "        self.name = name\n",
    "        self.age = age\n",
    "\n",
    "    def greet(self):\n",
    "        print(f\"Hello, my name is {self.name} and I am {self.age} years old.\")\n",
    "\n",
    "person = Person(\"MANOJ\", 21)\n",
    "person.greet()\n"
   ]
  },
  {
   "cell_type": "code",
   "execution_count": 87,
   "id": "27b25f0d-1856-4fc0-b1f4-33578712dc16",
   "metadata": {},
   "outputs": [
    {
     "name": "stdout",
     "output_type": "stream",
     "text": [
      "The average grade of MANOJ is: 82.0\n"
     ]
    }
   ],
   "source": [
    "#Q12] Implement a class Student with attributes name and grades. Create a method average_grade() to compute the average of the grades.\n",
    "\n",
    "class Student:\n",
    "    def __init__(self, name, grades):\n",
    "        self.name = name\n",
    "        self.grades = grades\n",
    "\n",
    "    def average_grade(self):\n",
    "        if not self.grades:\n",
    "            return 0\n",
    "        return sum(self.grades) / len(self.grades)\n",
    "\n",
    "student = Student(\"MANOJ\", [91, 85, 80, 79, 75])\n",
    "print(\"The average grade of\",student.name, \"is:\", student.average_grade())"
   ]
  },
  {
   "cell_type": "code",
   "execution_count": 75,
   "id": "7b396653-7aa6-4555-b514-335ccd2ce8a2",
   "metadata": {},
   "outputs": [
    {
     "name": "stdout",
     "output_type": "stream",
     "text": [
      "Area of the rectangle: 18\n"
     ]
    }
   ],
   "source": [
    "#Q13] Create a class Rectangle with methods set_dimensions() to set the dimensions and area() to calculate the area.\n",
    "\n",
    "class Rectangle:\n",
    "    def __init__(self):\n",
    "        self.width = 0\n",
    "        self.height = 0\n",
    "\n",
    "    def set_dimensions(self, width, height):\n",
    "        self.width = width\n",
    "        self.height = height\n",
    "\n",
    "    def area(self):\n",
    "        return self.width * self.height\n",
    "\n",
    "# Example usage\n",
    "rectangle = Rectangle()\n",
    "rectangle.set_dimensions(3, 6)\n",
    "print(f\"Area of the rectangle: {rectangle.area()}\")  # Output: Area of the rectangle: 20"
   ]
  },
  {
   "cell_type": "code",
   "execution_count": 83,
   "id": "d37e6f39-c14c-4844-bdc4-2637d6e81622",
   "metadata": {},
   "outputs": [
    {
     "name": "stdout",
     "output_type": "stream",
     "text": [
      "Employee Salary: 800\n",
      "\n",
      "Manager Salary: 1700\n"
     ]
    }
   ],
   "source": [
    "#Q14] Create a class Employee with a method calculate_salary() that computes the salary based on hours worked and hourly rate. \n",
    "#     Create a derived class Manager that adds a bonus to the salary.\n",
    "\n",
    "class Employee:\n",
    "    def __init__(self, name, hours_worked, hourly_rate):\n",
    "        self.name = name\n",
    "        self.hours_worked = hours_worked\n",
    "        self.hourly_rate = hourly_rate\n",
    "\n",
    "    def calculate_salary(self):\n",
    "        return self.hours_worked * self.hourly_rate\n",
    "\n",
    "class Manager(Employee):\n",
    "    def __init__(self, name, hours_worked, hourly_rate, bonus):\n",
    "        super().__init__(name, hours_worked, hourly_rate)\n",
    "        self.bonus = bonus\n",
    "\n",
    "    def calculate_salary(self):\n",
    "        return super().calculate_salary() + self.bonus\n",
    "\n",
    "employee = Employee(\"AJAY\", 40, 20)\n",
    "print(\"Employee Salary:\", employee.calculate_salary())\n",
    "print()\n",
    "manager = Manager(\"MANOJ\", 40, 30, 500)\n",
    "print(\"Manager Salary:\", manager.calculate_salary())"
   ]
  },
  {
   "cell_type": "code",
   "execution_count": 81,
   "id": "d8f088e5-4b4d-44e3-aa9b-83db8827845b",
   "metadata": {},
   "outputs": [
    {
     "name": "stdout",
     "output_type": "stream",
     "text": [
      "300000\n"
     ]
    }
   ],
   "source": [
    "#Q15] Create a class Product with attributes name, price, and quantity. Implement a method total_price() that calculates the total price of the product.\n",
    "\n",
    "class Product:\n",
    "    def __init__(self, name, price, quantity):\n",
    "        self.name = name\n",
    "        self.price = price\n",
    "        self.quantity = quantity\n",
    "\n",
    "    def total_price(self):\n",
    "        return self.price * self.quantity\n",
    "\n",
    "product = Product(\"Laptop\", 150000, 2)\n",
    "\n",
    "print(product.total_price())"
   ]
  },
  {
   "cell_type": "code",
   "execution_count": 79,
   "id": "3431072d-55a4-48c5-b59d-c2a3ff433d96",
   "metadata": {},
   "outputs": [
    {
     "name": "stdout",
     "output_type": "stream",
     "text": [
      "Cow sound: Mauhh\n",
      "Sheep sound: Beahhhh\n"
     ]
    }
   ],
   "source": [
    "#Q16] Create a class Animal with an abstract method sound(). Create two derived classes Cow and Sheep that implement the sound() method.\n",
    "\n",
    "from abc import ABC, abstractmethod\n",
    "\n",
    "class Animal(ABC):\n",
    "    @abstractmethod\n",
    "    def sound(self):\n",
    "        pass\n",
    "\n",
    "class Cow(Animal):\n",
    "    def sound(self):\n",
    "        return \"Mauhh\"\n",
    "\n",
    "class Sheep(Animal):\n",
    "    def sound(self):\n",
    "        return \"Beahhhh\"\n",
    "\n",
    "# Example usage\n",
    "cow = Cow()\n",
    "sheep = Sheep()\n",
    "\n",
    "print(f\"Cow sound: {cow.sound()}\")\n",
    "print(f\"Sheep sound: {sheep.sound()}\")"
   ]
  },
  {
   "cell_type": "code",
   "execution_count": 71,
   "id": "cbae02ba-491a-4f2c-b0ec-575918102f23",
   "metadata": {},
   "outputs": [
    {
     "name": "stdout",
     "output_type": "stream",
     "text": [
      "Title: The life, Author: xyz, Year Published: 1755\n"
     ]
    }
   ],
   "source": [
    "#Q17] Create a class Book with attributes title, author, and year_published. Add a method get_book_info() that\n",
    "#     returns a formatted string with the book's details.\n",
    "\n",
    "class Book:\n",
    "    def __init__(self, title: str, author: str, year_published: int):\n",
    "        self.title = title\n",
    "        self.author = author\n",
    "        self.year_published = year_published\n",
    "\n",
    "    def get_book_info(self) -> str:\n",
    "        return f\"Title: {self.title}, Author: {self.author}, Year Published: {self.year_published}\"\n",
    "\n",
    "book = Book(\"The life\", \"xyz\", 1755)\n",
    "\n",
    "print(book.get_book_info())"
   ]
  },
  {
   "cell_type": "code",
   "execution_count": 65,
   "id": "d410a194-f8ed-4129-bfdf-e5505c1e9fa9",
   "metadata": {},
   "outputs": [
    {
     "name": "stdout",
     "output_type": "stream",
     "text": [
      "House address: Gomti Nagar, price: ₹10000\n",
      "Mansion address: Hazratganj, price: ₹50000, number of rooms: 10\n"
     ]
    }
   ],
   "source": [
    "\n",
    "#Q18] Create a class House with attributes address and price. Create a derived class Mansion that adds an\n",
    "#     attribute number_of_rooms.\n",
    "\n",
    "class House:\n",
    "    def __init__(self, address, price):\n",
    "        self.address = address\n",
    "        self.price = price\n",
    "\n",
    "class Mansion(House):\n",
    "    def __init__(self, address, price, number_of_rooms):\n",
    "        super().__init__(address, price)\n",
    "        self.number_of_rooms = number_of_rooms\n",
    "\n",
    "# Example usage\n",
    "house = House(\"Sambhaji Nagar\", 10000)\n",
    "mansion = Mansion(\"Raajvada\", 50000, 10)\n",
    "\n",
    "print(f\"House address: {house.address}, price: ₹{house.price}\")\n",
    "print(f\"Mansion address: {mansion.address}, price: ₹{mansion.price}, number of rooms: {mansion.number_of_rooms}\")"
   ]
  },
  {
   "cell_type": "code",
   "execution_count": null,
   "id": "be359b30-f770-480f-80a6-362277077020",
   "metadata": {},
   "outputs": [],
   "source": []
  },
  {
   "cell_type": "code",
   "execution_count": null,
   "id": "d45c380b-8e3c-424f-81ed-fdddbd17c472",
   "metadata": {},
   "outputs": [],
   "source": []
  },
  {
   "cell_type": "code",
   "execution_count": null,
   "id": "1066d6d0-1b61-491a-9d27-a1bd49d9fde9",
   "metadata": {},
   "outputs": [],
   "source": []
  },
  {
   "cell_type": "code",
   "execution_count": null,
   "id": "0932fa9b-ab50-4068-a475-6aec4d49c3cd",
   "metadata": {},
   "outputs": [],
   "source": []
  }
 ],
 "metadata": {
  "kernelspec": {
   "display_name": "Python 3 (ipykernel)",
   "language": "python",
   "name": "python3"
  },
  "language_info": {
   "codemirror_mode": {
    "name": "ipython",
    "version": 3
   },
   "file_extension": ".py",
   "mimetype": "text/x-python",
   "name": "python",
   "nbconvert_exporter": "python",
   "pygments_lexer": "ipython3",
   "version": "3.12.7"
  }
 },
 "nbformat": 4,
 "nbformat_minor": 5
}
